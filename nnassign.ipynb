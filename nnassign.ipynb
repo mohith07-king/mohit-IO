{
 "cells": [
  {
   "cell_type": "code",
   "execution_count": 3,
   "id": "b6078e50-8791-4818-891a-edaa3045a44e",
   "metadata": {
    "id": "b6078e50-8791-4818-891a-edaa3045a44e",
    "scrolled": true
   },
   "outputs": [],
   "source": [
    "import numpy as np\n",
    "import matplotlib.pyplot as plt\n",
    "from tensorflow.keras.datasets import fashion_mnist as mnist"
   ]
  },
  {
   "cell_type": "code",
   "execution_count": 4,
   "id": "5bee2ac1-7383-4cc9-9fcd-007c67373c5f",
   "metadata": {
    "colab": {
     "base_uri": "https://localhost:8080/"
    },
    "id": "5bee2ac1-7383-4cc9-9fcd-007c67373c5f",
    "outputId": "93f6dae9-7fbc-4305-eb74-10720524509d"
   },
   "outputs": [],
   "source": [
    "(x_train, y_train), (x_test, y_test) = mnist.load_data()"
   ]
  },
  {
   "cell_type": "code",
   "execution_count": 5,
   "id": "1c114fbe-a575-42a7-97ab-9f83a10e1f76",
   "metadata": {
    "id": "1c114fbe-a575-42a7-97ab-9f83a10e1f76"
   },
   "outputs": [],
   "source": [
    "assert x_train.shape == (60000, 28, 28)\n",
    "assert x_test.shape == (10000, 28, 28)\n",
    "assert y_train.shape == (60000,)\n",
    "assert y_test.shape == (10000,)"
   ]
  },
  {
   "cell_type": "code",
   "execution_count": 6,
   "id": "af3d578c-66f5-4be6-a3b7-b5d024a882e5",
   "metadata": {
    "id": "af3d578c-66f5-4be6-a3b7-b5d024a882e5"
   },
   "outputs": [],
   "source": [
    "x_train = x_train.reshape(x_train.shape[0], -1) / 255.0\n",
    "x_test = x_test.reshape(x_test.shape[0], -1) / 255.0"
   ]
  },
  {
   "cell_type": "code",
   "execution_count": 7,
   "id": "b4a769a6-84ae-4311-8022-2f4086b2444f",
   "metadata": {
    "id": "b4a769a6-84ae-4311-8022-2f4086b2444f"
   },
   "outputs": [],
   "source": [
    "def one_hot_encode(y, num_classes):\n",
    "    return np.eye(num_classes)[y]"
   ]
  },
  {
   "cell_type": "code",
   "execution_count": 8,
   "id": "52680bb7-54f1-4437-9014-ad69814c0eee",
   "metadata": {
    "id": "52680bb7-54f1-4437-9014-ad69814c0eee"
   },
   "outputs": [],
   "source": [
    "y_train_encoded = one_hot_encode(y_train, 10)\n",
    "y_test_encoded = one_hot_encode(y_test, 10)"
   ]
  },
  {
   "cell_type": "code",
   "execution_count": 9,
   "id": "89de8137-141b-415a-80eb-09d74aa8fffe",
   "metadata": {
    "id": "89de8137-141b-415a-80eb-09d74aa8fffe"
   },
   "outputs": [],
   "source": [
    "import numpy as np  \n",
    "\n",
    "class NeuralNetwork:\n",
    "    def __init__(self, input_size, hidden_size, output_size, learning_rate=0.001, reg_lambda=0.01):\n",
    "        self.W1 = np.random.randn(input_size, hidden_size) * 0.01  \n",
    "        self.b1 = np.zeros((1, hidden_size))  \n",
    "        self.W2 = np.random.randn(hidden_size, output_size) * 0.01  \n",
    "        self.b2 = np.zeros((1, output_size))  \n",
    "        self.reg_lambda = reg_lambda\n",
    "        self.learning_rate = learning_rate  \n",
    "\n",
    "    def softmax(self, x):\n",
    "        exp_x = np.exp(x - np.max(x, axis=1, keepdims=True))  \n",
    "        return exp_x / np.sum(exp_x, axis=1, keepdims=True)  \n",
    "\n",
    "    def forward(self, X):\n",
    "        self.z1 = np.dot(X, self.W1) + self.b1  \n",
    "        self.a1 = np.tanh(self.z1)  \n",
    "        self.z2 = np.dot(self.a1, self.W2) + self.b2  \n",
    "        self.a2 = self.softmax(self.z2) \n",
    "        return self.a2  \n",
    "\n",
    "    def backward(self, X, y, output):\n",
    "        m = X.shape[0]  \n",
    "        output_error = output - y \n",
    "        hidden_error = np.dot(output_error, self.W2.T) * (1 - np.tanh(self.z1) ** 2) \n",
    "\n",
    "    \n",
    "        dW2 = np.dot(self.a1.T, output_error) / m+self.reg_lambda*self.W2\n",
    "        db2 = np.sum(output_error, axis=0, keepdims=True) / m  \n",
    "        dW1 = np.dot(X.T, hidden_error) /  m+self.reg_lambda*self.W1 \n",
    "        db1 = np.sum(hidden_error, axis=0, keepdims=True) / m  \n",
    "        self.W1 -= self.learning_rate * dW1 \n",
    "        self.b1 -= self.learning_rate * db1  \n",
    "        self.W2 -= self.learning_rate * dW2  \n",
    "        self.b2 -= self.learning_rate * db2  \n",
    "\n",
    "    def train(self, X, y, epochs, batch_size=32):\n",
    "        for epoch in range(epochs):\n",
    "            for i in range(0, X.shape[0], batch_size):\n",
    "                X_batch = X[i:i+batch_size]\n",
    "                y_batch = y[i:i+batch_size]\n",
    "                output = self.forward(X_batch)\n",
    "                self.backward(X_batch, y_batch, output)\n",
    "            \n",
    "            if epoch % 10 == 0:  \n",
    "                output = self.forward(X)\n",
    "                loss = -np.mean(np.sum(y * np.log(output + 1e-10), axis=1)) + (self.reg_lambda / 2) * (np.sum(np.square(self.W1)) + np.sum(np.square(self.W2)))  # L2 regularization term\n",
    "                print(f\"Epoch {epoch}, Loss: {loss:.4f}\")\n",
    "\n",
    "    def predict(self, X):\n",
    "        output = self.forward(X)\n",
    "        return np.argmax(output, axis=1)\n",
    "  \n"
   ]
  },
  {
   "cell_type": "code",
   "execution_count": 10,
   "id": "d55b1aa5-d8ca-41d5-9714-858a37683f3c",
   "metadata": {
    "id": "d55b1aa5-d8ca-41d5-9714-858a37683f3c"
   },
   "outputs": [],
   "source": [
    "\n",
    "input_size = 784 \n",
    "hidden_size = 128  \n",
    "output_size = 10  \n",
    "learning_rate = 0.01\n",
    "epochs = 50"
   ]
  },
  {
   "cell_type": "code",
   "execution_count": null,
   "id": "e149f221-b151-47ec-ae51-42af6012e6da",
   "metadata": {
    "colab": {
     "base_uri": "https://localhost:8080/"
    },
    "id": "e149f221-b151-47ec-ae51-42af6012e6da",
    "outputId": "79068c36-9014-4c6d-a5ce-75b93561ec3a"
   },
   "outputs": [
    {
     "name": "stdout",
     "output_type": "stream",
     "text": [
      "Epoch 0, Loss: 0.8598\n",
      "Epoch 10, Loss: 0.6510\n"
     ]
    }
   ],
   "source": [
    "nn = NeuralNetwork(input_size, hidden_size, output_size, learning_rate)\n",
    "nn.train(x_train, y_train_encoded, epochs)"
   ]
  },
  {
   "cell_type": "code",
   "execution_count": null,
   "id": "78460e95-dfe2-4b17-998d-27a8a2ca0c06",
   "metadata": {},
   "outputs": [
    {
     "ename": "NameError",
     "evalue": "name 'np' is not defined",
     "output_type": "error",
     "traceback": [
      "\u001b[1;31m---------------------------------------------------------------------------\u001b[0m",
      "\u001b[1;31mNameError\u001b[0m                                 Traceback (most recent call last)",
      "Cell \u001b[1;32mIn[3], line 1\u001b[0m\n\u001b[1;32m----> 1\u001b[0m predictions \u001b[38;5;241m=\u001b[39m \u001b[43mnp\u001b[49m\u001b[38;5;241m.\u001b[39mpredict(x_test)\n\u001b[0;32m      2\u001b[0m accuracy \u001b[38;5;241m=\u001b[39m np\u001b[38;5;241m.\u001b[39mmean(predictions \u001b[38;5;241m==\u001b[39m y_test)\n\u001b[0;32m      3\u001b[0m \u001b[38;5;28mprint\u001b[39m(\u001b[38;5;124mf\u001b[39m\u001b[38;5;124m'\u001b[39m\u001b[38;5;124mTest Accuracy: \u001b[39m\u001b[38;5;132;01m{\u001b[39;00maccuracy\u001b[38;5;241m*\u001b[39m\u001b[38;5;241m100\u001b[39m\u001b[38;5;132;01m:\u001b[39;00m\u001b[38;5;124m.2f\u001b[39m\u001b[38;5;132;01m}\u001b[39;00m\u001b[38;5;124m%\u001b[39m\u001b[38;5;124m'\u001b[39m)\n",
      "\u001b[1;31mNameError\u001b[0m: name 'np' is not defined"
     ]
    }
   ],
   "source": [
    "predictions = nn.predict(x_test)\n",
    "accuracy = np.mean(predictions == y_test)\n",
    "print(f'Test Accuracy: {accuracy*100:.2f}%')"
   ]
  },
  {
   "cell_type": "code",
   "execution_count": null,
   "id": "c5e0859c-d4c9-4398-be4e-2c3f7dfd8c51",
   "metadata": {},
   "outputs": [],
   "source": []
  },
  {
   "cell_type": "code",
   "execution_count": null,
   "id": "3c885fbb",
   "metadata": {},
   "outputs": [],
   "source": []
  }
 ],
 "metadata": {
  "colab": {
   "provenance": []
  },
  "kernelspec": {
   "display_name": "Python 3",
   "language": "python",
   "name": "python3"
  },
  "language_info": {
   "codemirror_mode": {
    "name": "ipython",
    "version": 3
   },
   "file_extension": ".py",
   "mimetype": "text/x-python",
   "name": "python",
   "nbconvert_exporter": "python",
   "pygments_lexer": "ipython3",
   "version": "3.12.4"
  }
 },
 "nbformat": 4,
 "nbformat_minor": 5
}
